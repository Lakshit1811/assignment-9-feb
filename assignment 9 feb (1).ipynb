{
 "cells": [
  {
   "cell_type": "code",
   "execution_count": 9,
   "id": "74afe90e-5a28-4bff-8214-a05e4df716c2",
   "metadata": {},
   "outputs": [],
   "source": [
    "class Vehicle:\n",
    "    def _init_(self, name_of_vehicle, max_speed, average_of_vehicle):\n",
    "        self.name_of_vehicle = name_of_vehicle\n",
    "        self.max_speed = max_speed\n",
    "        self.average_of_vehicle = average_of_vehicle\n",
    "        \n",
    "        # Create an instance of the Vehicle class\n",
    "        car = Vehicle(\"Sedan\", 180, 15)\n",
    "        # Access the instance variables\n",
    "        print(car.name_of_vehicle)\n",
    "        print(car.max_speed)\n",
    "        print(car.average_of_vehicle)"
   ]
  },
  {
   "cell_type": "code",
   "execution_count": 8,
   "id": "23ded88c-16cc-46ba-af0d-9e0fd8694fbb",
   "metadata": {},
   "outputs": [
    {
     "ename": "TypeError",
     "evalue": "Car() takes no arguments",
     "output_type": "error",
     "traceback": [
      "\u001b[0;31m---------------------------------------------------------------------------\u001b[0m",
      "\u001b[0;31mTypeError\u001b[0m                                 Traceback (most recent call last)",
      "Cell \u001b[0;32mIn[8], line 7\u001b[0m\n\u001b[1;32m      4\u001b[0m         \u001b[38;5;28mself\u001b[39m\u001b[38;5;241m.\u001b[39mmax_speed \u001b[38;5;241m=\u001b[39m max_speed\n\u001b[1;32m      5\u001b[0m         \u001b[38;5;28mself\u001b[39m\u001b[38;5;241m.\u001b[39maverage_of_vehicle \u001b[38;5;241m=\u001b[39m average_of_vehicle\n\u001b[0;32m----> 7\u001b[0m \u001b[38;5;28;01mclass\u001b[39;00m \u001b[38;5;21;01mCar\u001b[39;00m(Vehicle):\n\u001b[1;32m      8\u001b[0m     \u001b[38;5;28;01mdef\u001b[39;00m \u001b[38;5;21m_init_\u001b[39m(\u001b[38;5;28mself\u001b[39m, name_of_vehicle, max_speed, average_of_vehicle, seating_capacity):\n\u001b[1;32m      9\u001b[0m         \u001b[38;5;28msuper\u001b[39m()\u001b[38;5;241m.\u001b[39m_init_(name_of_vehicle, max_speed, average_of_vehicle)\n",
      "Cell \u001b[0;32mIn[8], line 15\u001b[0m, in \u001b[0;36mCar\u001b[0;34m()\u001b[0m\n\u001b[1;32m     13\u001b[0m     \u001b[38;5;28;01mreturn\u001b[39;00m \u001b[38;5;124mf\u001b[39m\u001b[38;5;124m\"\u001b[39m\u001b[38;5;124mThe \u001b[39m\u001b[38;5;132;01m{\u001b[39;00m\u001b[38;5;28mself\u001b[39m\u001b[38;5;241m.\u001b[39mname_of_vehicle\u001b[38;5;132;01m}\u001b[39;00m\u001b[38;5;124m has a seating capacity of \u001b[39m\u001b[38;5;132;01m{\u001b[39;00mcapacity\u001b[38;5;132;01m}\u001b[39;00m\u001b[38;5;124m.\u001b[39m\u001b[38;5;124m\"\u001b[39m\n\u001b[1;32m     14\u001b[0m \u001b[38;5;66;03m# Create an instance of the Car class\u001b[39;00m\n\u001b[0;32m---> 15\u001b[0m sedan \u001b[38;5;241m=\u001b[39m \u001b[43mCar\u001b[49m\u001b[43m(\u001b[49m\u001b[38;5;124;43m\"\u001b[39;49m\u001b[38;5;124;43mSedan\u001b[39;49m\u001b[38;5;124;43m\"\u001b[39;49m\u001b[43m,\u001b[49m\u001b[43m \u001b[49m\u001b[38;5;241;43m180\u001b[39;49m\u001b[43m,\u001b[49m\u001b[43m \u001b[49m\u001b[38;5;241;43m15\u001b[39;49m\u001b[43m,\u001b[49m\u001b[43m \u001b[49m\u001b[38;5;241;43m4\u001b[39;49m\u001b[43m)\u001b[49m\n\u001b[1;32m     17\u001b[0m \u001b[38;5;66;03m# Access the instance variables from the Vehicle class\u001b[39;00m\n\u001b[1;32m     18\u001b[0m \u001b[38;5;28mprint\u001b[39m(sedan\u001b[38;5;241m.\u001b[39mname_of_vehicle)\n",
      "\u001b[0;31mTypeError\u001b[0m: Car() takes no arguments"
     ]
    }
   ],
   "source": [
    "class Vehicle:\n",
    "    def _init_(self, name_of_vehicle, max_speed, average_of_vehicle):\n",
    "        self.name_of_vehicle = name_of_vehicle\n",
    "        self.max_speed = max_speed\n",
    "        self.average_of_vehicle = average_of_vehicle\n",
    "\n",
    "class Car(Vehicle):\n",
    "    def _init_(self, name_of_vehicle, max_speed, average_of_vehicle, seating_capacity):\n",
    "        super()._init_(name_of_vehicle, max_speed, average_of_vehicle)\n",
    "        self.seating_capacity = seating_capacity\n",
    "\n",
    "    def seating_capacity(self, capacity):\n",
    "        return f\"The {self.name_of_vehicle} has a seating capacity of {capacity}.\"\n",
    "    # Create an instance of the Car class\n",
    "    sedan = Car(\"Sedan\", 180, 15, 4)\n",
    "    \n",
    "    # Access the instance variables from the Vehicle class\n",
    "    print(sedan.name_of_vehicle)\n",
    "    print(sedan.max_speed)\n",
    "    print(sedan.average_of_vehicle)\n",
    "    \n",
    "    # Call the seating_capacity method\n",
    "    print(sedan.seating_capacity(4))"
   ]
  },
  {
   "cell_type": "markdown",
   "id": "d6f3d140-fcb2-4d22-b2de-9802115a55f2",
   "metadata": {},
   "source": [
    "Multiple inheritance is a feature of object-oriented programming that allows a class to inherit attributes and behavior from more than one parent class. In other words, a class can inherit from multiple classes, rather than just one class as in single inheritance. This can allow for code reusability and modularity.\n",
    "\n",
    "Here's a simple example of multiple inheritance in Python:\n",
    "\n",
    "class Vehicle:\n",
    "    def _init_(self, name_of_vehicle, max_speed, average_of_vehicle):\n",
    "        self.name_of_vehicle = name_of_vehicle\n",
    "        self.max_speed = max_speed\n",
    "        self.average_of_vehicle = average_of_vehicle\n",
    "\n",
    "class Car(Vehicle):\n",
    "    def _init_(self, name_of_vehicle, max_speed, average_of_vehicle, seating_capacity):\n",
    "        super()._init_(name_of_vehicle, max_speed, average_of_vehicle)\n",
    "        self.seating_capacity = seating_capacity\n",
    "\n",
    "class SportsCar(Car):\n",
    "    def _init_(self, name_of_vehicle, max_speed, average_of_vehicle, seating_capacity, turbo):\n",
    "        super()._init_(name_of_vehicle, max_speed, average_of_vehicle, seating_capacity)\n",
    "        self.turbo = turbo\n",
    "\n",
    "In this example, the SportsCar class inherits from both the Vehicle and Car classes, which demonstrates multiple inheritance. The SportsCar class has access to all the attributes and methods defined in both the Vehicle and Car classes, as well as any attributes or methods defined in its own class."
   ]
  },
  {
   "cell_type": "markdown",
   "id": "534f1907-e797-4615-a039-6a527b123293",
   "metadata": {},
   "source": [
    "Getters and setters are methods that are used to get and set the values of an object's attributes, respectively. They allow you to define the behavior that should occur when an object's attributes are read or written, and they can be used to enforce certain constraints or to perform additional actions when an attribute is accessed.\n",
    "\n",
    "Here's an example of a class with a getter and a setter method in Python:\n",
    "\n",
    "class Person:\n",
    "    def _init_(self, name, age):\n",
    "        self._name = name\n",
    "        self._age = age\n",
    "\n",
    "    @property\n",
    "    def name(self):\n",
    "        return self._name\n",
    "\n",
    "    @name.setter\n",
    "    def name(self, name):\n",
    "        if not isinstance(name, str):\n",
    "            raise TypeError(\"Name must be a string.\")\n",
    "        self._name = name\n",
    "\n",
    "    @property\n",
    "    def age(self):\n",
    "        return self._age\n",
    "\n",
    "    @age.setter\n",
    "    def age(self, age):\n",
    "        if not isinstance(age, int):\n",
    "            raise TypeError(\"Age must be an integer.\")\n",
    "        if age < 0:\n",
    "            raise ValueError(\"Age must be a positive integer.\")\n",
    "        self._age = age\n",
    "        \n",
    "In this example, the Person class has two attributes _name and _age, which are private attributes with a leading underscore. The name and age attributes are defined as properties, which are created using the property decorator and the .setter decorator.\n",
    "\n",
    "The getter methods for name and age simply return the value of the private attributes, while the setter methods for name and age perform some validation to ensure that the values are of the correct type and in a valid range"
   ]
  },
  {
   "cell_type": "markdown",
   "id": "80f776a1-f3d8-4392-9145-24e4b0c890e6",
   "metadata": {},
   "source": [
    "Method overriding is a feature of object-oriented programming that allows a subclass to provide a different implementation for a method that is defined in its parent class. When a method is overridden, the subclass provides its own implementation for the method, which takes precedence over the implementation provided by the parent class.\n",
    "\n",
    "Here's an example of method overriding in Python:\n",
    "\n",
    "class Vehicle:\n",
    "    def _init_(self, name_of_vehicle, max_speed, average_of_vehicle):\n",
    "        self.name_of_vehicle = name_of_vehicle\n",
    "        self.max_speed = max_speed\n",
    "        self.average_of_vehicle = average_of_vehicle\n",
    "        \n",
    "    def display_details(self):\n",
    "        return f\"Name of Vehicle: {self.name_of_vehicle}, Max Speed: {self.max_speed}, Average of Vehicle: {self.average_of_vehicle}\"\n",
    "\n",
    "class Car(Vehicle):\n",
    "    def _init_(self, name_of_vehicle, max_speed, average_of_vehicle, seating_capacity):\n",
    "        super()._init_(name_of_vehicle, max_speed, average_of_vehicle)\n",
    "        self.seating_capacity = seating_capacity\n",
    "        \n",
    "    def display_details(self):\n",
    "        return f\"Name of Vehicle: {self.name_of_vehicle}, Max Speed: {self.max_speed}, Average of Vehicle: {self.average_of_vehicle}, Seating Capacity: {self.seating_capacity}\"\n",
    "        \n",
    "In this example, the Car class overrides the display_details method defined in the Vehicle class. When an instance of the Car class calls the display_details method, it will use the implementation defined in the Car class, rather than the implementation defined in the Vehicle class. This allows the Car class to provide its own, specialized behavior for the display_details method that is specific to cars."
   ]
  },
  {
   "cell_type": "code",
   "execution_count": null,
   "id": "9d85b8bb-3b61-408c-9d1a-2380dc2100ab",
   "metadata": {},
   "outputs": [],
   "source": []
  }
 ],
 "metadata": {
  "kernelspec": {
   "display_name": "Python 3 (ipykernel)",
   "language": "python",
   "name": "python3"
  },
  "language_info": {
   "codemirror_mode": {
    "name": "ipython",
    "version": 3
   },
   "file_extension": ".py",
   "mimetype": "text/x-python",
   "name": "python",
   "nbconvert_exporter": "python",
   "pygments_lexer": "ipython3",
   "version": "3.10.8"
  }
 },
 "nbformat": 4,
 "nbformat_minor": 5
}
